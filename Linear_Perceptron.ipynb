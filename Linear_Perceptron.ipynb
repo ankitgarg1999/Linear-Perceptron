{
  "nbformat": 4,
  "nbformat_minor": 0,
  "metadata": {
    "colab": {
      "name": "Linear Perceptron.ipynb",
      "provenance": [],
      "authorship_tag": "ABX9TyNsvyvm4X1XuBL0C2vhoMwh",
      "include_colab_link": true
    },
    "kernelspec": {
      "name": "python3",
      "display_name": "Python 3"
    }
  },
  "cells": [
    {
      "cell_type": "markdown",
      "metadata": {
        "id": "view-in-github",
        "colab_type": "text"
      },
      "source": [
        "<a href=\"https://colab.research.google.com/github/ankitgarg1999/newGit/blob/main/Linear_Perceptron.ipynb\" target=\"_parent\"><img src=\"https://colab.research.google.com/assets/colab-badge.svg\" alt=\"Open In Colab\"/></a>"
      ]
    },
    {
      "cell_type": "markdown",
      "metadata": {
        "id": "yDmWdvgtZgh1"
      },
      "source": [
        "# **Linear Perceptron**\n",
        "This learns a linear classifier that can work for only a lineraly separable data. It learns the classifier using perceptron learning algorithm. "
      ]
    },
    {
      "cell_type": "code",
      "metadata": {
        "id": "LvbXunt2Q1IM"
      },
      "source": [
        "# read data from data.csv file\n",
        "import pandas as pd\n",
        "import torch\n",
        "data = pd.read_csv('data.csv')\n",
        "data = data.to_numpy()\n",
        "x = data[:,:2]\n",
        "y = data[:,2]\n",
        "x = torch.from_numpy(x)\n",
        "y = torch.from_numpy(y)"
      ],
      "execution_count": 1,
      "outputs": []
    },
    {
      "cell_type": "code",
      "metadata": {
        "colab": {
          "base_uri": "https://localhost:8080/",
          "height": 282
        },
        "id": "T45OV9yPRJLr",
        "outputId": "a0812755-70f0-4669-bbff-c527c5c91033"
      },
      "source": [
        "# visualize the data that you want to classify\n",
        "import matplotlib.pyplot as plt\n",
        "x1 = [[x[i][0].item(),x[i][1].item()] for i in range(0,20) if y[i] == 1]\n",
        "x2 = [[x[i][0].item(),x[i][1].item()] for i in range(0,20) if y[i] == -1]\n",
        "x1 = torch.tensor(x1)\n",
        "x2 = torch.tensor(x2)\n",
        "plt.scatter(x1[:,0],x1[:,1])\n",
        "plt.scatter(x2[:,0],x2[:,1])"
      ],
      "execution_count": 2,
      "outputs": [
        {
          "output_type": "execute_result",
          "data": {
            "text/plain": [
              "<matplotlib.collections.PathCollection at 0x7f5a99bda1d0>"
            ]
          },
          "metadata": {
            "tags": []
          },
          "execution_count": 2
        },
        {
          "output_type": "display_data",
          "data": {
            "image/png": "[encoded data removed]",
            "text/plain": [
              "<Figure size 432x288 with 1 Axes>"
            ]
          },
          "metadata": {
            "tags": [],
            "needs_background": "light"
          }
        }
      ]
    },
    {
      "cell_type": "code",
      "metadata": {
        "id": "IY4eLsd5RS2e"
      },
      "source": [
        "# initialize the weight vector to all zero\n",
        "w = torch.zeros(3,1)"
      ],
      "execution_count": 3,
      "outputs": []
    },
    {
      "cell_type": "code",
      "metadata": {
        "id": "eFnch7ezVCgK"
      },
      "source": [
        "# function to plot the classifier learnt\n",
        "def plot(w):\n",
        "  x_range = [-2, -1, 0, 1, 2]\n",
        "  y_range = []\n",
        "  for i in range (0,len(x_range)):\n",
        "    if w[1] == 0:\n",
        "      y_range.append(0)\n",
        "    else :\n",
        "      y_range.append((-w[2] - x_range[i]*w[0])/w[1])\n",
        "  plt.plot(x_range,y_range)\n",
        "  plt.scatter(x1[:,0],x1[:,1])\n",
        "  plt.scatter(x2[:,0],x2[:,1])\n",
        "  plt.show()"
      ],
      "execution_count": 4,
      "outputs": []
    },
    {
      "cell_type": "code",
      "metadata": {
        "colab": {
          "base_uri": "https://localhost:8080/",
          "height": 513
        },
        "id": "dNqkOtXKVFmd",
        "outputId": "8c13127f-57c3-4c41-bab2-0cb45c0bb63f"
      },
      "source": [
        "# iterate through the whole data and learn perceptron\n",
        "alpha = 0.1\n",
        "plot(w)\n",
        "\n",
        "for k in range(0,2):\n",
        "  for i in range(0,20):\n",
        "    x_temp = torch.tensor([[x[i][0].float()],[x[i][1].float()],[1]])\n",
        "    y_temp = y[i]\n",
        "    y_pred = (torch.matmul(torch.transpose(w,0,1),x_temp)).item()\n",
        "\n",
        "    # check if the current example is misclassified or not\n",
        "    if (y_temp*y_pred >0):\n",
        "      continue\n",
        "    else:\n",
        "      if y_pred>=0 :\n",
        "        w = w - alpha*x_temp\n",
        "      else: \n",
        "        w = w + alpha*x_temp\n",
        "\n",
        "plot(w)"
      ],
      "execution_count": 5,
      "outputs": [
        {
          "output_type": "display_data",
          "data": {
            "image/png": "[encoded data removed]",
            "text/plain": [
              "<Figure size 432x288 with 1 Axes>"
            ]
          },
          "metadata": {
            "tags": [],
            "needs_background": "light"
          }
        },
        {
          "output_type": "display_data",
          "data": {
            "image/png": "[encoded data removed]",
            "text/plain": [
              "<Figure size 432x288 with 1 Axes>"
            ]
          },
          "metadata": {
            "tags": [],
            "needs_background": "light"
          }
        }
      ]
    },
    {
      "cell_type": "code",
      "metadata": {
        "colab": {
          "base_uri": "https://localhost:8080/"
        },
        "id": "rDzp2T5BVKRv",
        "outputId": "07395784-f845-40ed-8ba6-ada85d4174ab"
      },
      "source": [
        "print(w)"
      ],
      "execution_count": 6,
      "outputs": [
        {
          "output_type": "stream",
          "text": [
            "tensor([[-0.2989],\n",
            "        [-0.1555],\n",
            "        [-0.1000]])\n"
          ],
          "name": "stdout"
        }
      ]
    },
    {
      "cell_type": "markdown",
      "metadata": {
        "id": "chbY1KdzcfzV"
      },
      "source": [
        "The equation of the classifier learnt is `f(x) = -0.2989x1 -0.1555x2 - 0.1000`. `f(x) > 0` for all points for which `y = 1 `and `f(x) < 0` for all points which `y = -1`"
      ]
    }
  ]
}